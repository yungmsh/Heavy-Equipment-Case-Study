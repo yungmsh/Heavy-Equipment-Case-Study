{
 "cells": [
  {
   "cell_type": "markdown",
   "metadata": {},
   "source": [
    "# Heavy Equipment Case Study: Data Munging"
   ]
  },
  {
   "cell_type": "markdown",
   "metadata": {},
   "source": [
    "The goal of this case study is to **predict the sale price of a particular piece of heavy equipment** at auction based on it's usage, equipment type, and configuration. The data is sourced from auction result postings and includes information on usage and equipment configurations."
   ]
  },
  {
   "cell_type": "markdown",
   "metadata": {},
   "source": [
    "### Exploratory Data Analysis (EDA)"
   ]
  },
  {
   "cell_type": "code",
   "execution_count": 262,
   "metadata": {
    "collapsed": true
   },
   "outputs": [],
   "source": [
    "import pandas as pd\n",
    "import numpy as np\n",
    "import matplotlib.pyplot as plt\n",
    "from scipy.stats import ttest_ind\n",
    "from sklearn.linear_model import LinearRegression, Ridge, Lasso\n",
    "from sklearn.cross_validation import cross_val_score, KFold, train_test_split\n",
    "import seaborn as sns\n",
    "%matplotlib inline"
   ]
  },
  {
   "cell_type": "code",
   "execution_count": 155,
   "metadata": {
    "collapsed": true
   },
   "outputs": [],
   "source": [
    "# Since we know that saledate should be treated as datetime, let's parse it as we load the data in.\n",
    "df = pd.read_csv('data/Train.csv', parse_dates=['saledate'])"
   ]
  },
  {
   "cell_type": "code",
   "execution_count": 101,
   "metadata": {
    "collapsed": false
   },
   "outputs": [
    {
     "name": "stdout",
     "output_type": "stream",
     "text": [
      "<class 'pandas.core.frame.DataFrame'>\n",
      "Int64Index: 401125 entries, 0 to 401124\n",
      "Data columns (total 53 columns):\n",
      "SalesID                     401125 non-null int64\n",
      "SalePrice                   401125 non-null int64\n",
      "MachineID                   401125 non-null int64\n",
      "ModelID                     401125 non-null int64\n",
      "datasource                  401125 non-null int64\n",
      "auctioneerID                380989 non-null float64\n",
      "YearMade                    401125 non-null int64\n",
      "MachineHoursCurrentMeter    142765 non-null float64\n",
      "UsageBand                   69639 non-null object\n",
      "saledate                    401125 non-null datetime64[ns]\n",
      "fiModelDesc                 401125 non-null object\n",
      "fiBaseModel                 401125 non-null object\n",
      "fiSecondaryDesc             263934 non-null object\n",
      "fiModelSeries               56908 non-null object\n",
      "fiModelDescriptor           71919 non-null object\n",
      "ProductSize                 190350 non-null object\n",
      "fiProductClassDesc          401125 non-null object\n",
      "state                       401125 non-null object\n",
      "ProductGroup                401125 non-null object\n",
      "ProductGroupDesc            401125 non-null object\n",
      "Drive_System                104361 non-null object\n",
      "Enclosure                   400800 non-null object\n",
      "Forks                       192077 non-null object\n",
      "Pad_Type                    79134 non-null object\n",
      "Ride_Control                148606 non-null object\n",
      "Stick                       79134 non-null object\n",
      "Transmission                183230 non-null object\n",
      "Turbocharged                79134 non-null object\n",
      "Blade_Extension             25219 non-null object\n",
      "Blade_Width                 25219 non-null object\n",
      "Enclosure_Type              25219 non-null object\n",
      "Engine_Horsepower           25219 non-null object\n",
      "Hydraulics                  320570 non-null object\n",
      "Pushblock                   25219 non-null object\n",
      "Ripper                      104137 non-null object\n",
      "Scarifier                   25230 non-null object\n",
      "Tip_Control                 25219 non-null object\n",
      "Tire_Size                   94718 non-null object\n",
      "Coupler                     213952 non-null object\n",
      "Coupler_System              43458 non-null object\n",
      "Grouser_Tracks              43362 non-null object\n",
      "Hydraulics_Flow             43362 non-null object\n",
      "Track_Type                  99153 non-null object\n",
      "Undercarriage_Pad_Width     99872 non-null object\n",
      "Stick_Length                99218 non-null object\n",
      "Thumb                       99288 non-null object\n",
      "Pattern_Changer             99218 non-null object\n",
      "Grouser_Type                99153 non-null object\n",
      "Backhoe_Mounting            78672 non-null object\n",
      "Blade_Type                  79833 non-null object\n",
      "Travel_Controls             79834 non-null object\n",
      "Differential_Type           69411 non-null object\n",
      "Steering_Controls           69369 non-null object\n",
      "dtypes: datetime64[ns](1), float64(2), int64(6), object(44)\n",
      "memory usage: 165.3+ MB\n"
     ]
    }
   ],
   "source": [
    "df.info()"
   ]
  },
  {
   "cell_type": "markdown",
   "metadata": {},
   "source": [
    "After loading in the csv to a Pandas DataFrame object, we observe that there are 53 columns. The column SalePrice looks like our target variable. We have 52 potential features to work with - that's quite a lot, and there are a LOT of missing values, so we'll probably have to do:\n",
    "\n",
    "- drop columns if there are too many missing values, or if multi-collinearity exists\n",
    "- convert incorrect data types\n",
    "- perform some scaled operation (log transform and/or standard-scale everything)\n",
    "- feature engineer new columns\n",
    "- impute missing values"
   ]
  },
  {
   "cell_type": "markdown",
   "metadata": {},
   "source": [
    "## Examining our target variable (SalePrice)"
   ]
  },
  {
   "cell_type": "code",
   "execution_count": 113,
   "metadata": {
    "collapsed": false
   },
   "outputs": [
    {
     "data": {
      "text/plain": [
       "<matplotlib.text.Text at 0x14dcfec90>"
      ]
     },
     "execution_count": 113,
     "metadata": {},
     "output_type": "execute_result"
    },
    {
     "data": {
      "image/png": "[encoded data removed]",
      "text/plain": [
       "<matplotlib.figure.Figure at 0x148cfe710>"
      ]
     },
     "metadata": {},
     "output_type": "display_data"
    }
   ],
   "source": [
    "_=plt.boxplot(df['SalePrice'])\n",
    "plt.title('Boxplot of Sales Prices')\n",
    "plt.ylabel('SalePrice')"
   ]
  },
  {
   "cell_type": "code",
   "execution_count": 114,
   "metadata": {
    "collapsed": false
   },
   "outputs": [
    {
     "data": {
      "text/plain": [
       "<matplotlib.text.Text at 0x146748cd0>"
      ]
     },
     "execution_count": 114,
     "metadata": {},
     "output_type": "execute_result"
    },
    {
     "data": {
      "image/png": "[encoded data removed]",
      "text/plain": [
       "<matplotlib.figure.Figure at 0x148d1a210>"
      ]
     },
     "metadata": {},
     "output_type": "display_data"
    }
   ],
   "source": [
    "df['SalePrice'].hist()\n",
    "plt.title('Histogram of Sales Prices')\n",
    "plt.xlabel('SalePrice')\n",
    "plt.ylabel('Frequency (counts)')"
   ]
  },
  {
   "cell_type": "markdown",
   "metadata": {},
   "source": [
    "SalePrice data looks pretty right-skewed. If we log-transform it will behave more like a normal distribution."
   ]
  },
  {
   "cell_type": "code",
   "execution_count": 115,
   "metadata": {
    "collapsed": false
   },
   "outputs": [
    {
     "data": {
      "text/plain": [
       "<matplotlib.text.Text at 0x14694b510>"
      ]
     },
     "execution_count": 115,
     "metadata": {},
     "output_type": "execute_result"
    },
    {
     "data": {
      "image/png": "[encoded data removed]",
      "text/plain": [
       "<matplotlib.figure.Figure at 0x148ead8d0>"
      ]
     },
     "metadata": {},
     "output_type": "display_data"
    }
   ],
   "source": [
    "np.log(df['SalePrice']).hist()\n",
    "plt.title('Histogram of Log Sales Prices')\n",
    "plt.xlabel('Log(SalePrice))')\n",
    "plt.ylabel('Frequency (counts)')"
   ]
  },
  {
   "cell_type": "markdown",
   "metadata": {},
   "source": [
    "This looks more Gaussian now, despite the kurtosis being a little smaller than we'd like. We could model our data to the log price, but we'd have to remember to transform it back afterwards. Let's leave it as is for now."
   ]
  },
  {
   "cell_type": "markdown",
   "metadata": {},
   "source": [
    "## Exploring the Data"
   ]
  },
  {
   "cell_type": "markdown",
   "metadata": {},
   "source": [
    "Before we do any data exploration, let's create a separate DataFrame containing just those columns that we have complete data for."
   ]
  },
  {
   "cell_type": "code",
   "execution_count": 97,
   "metadata": {
    "collapsed": true
   },
   "outputs": [],
   "source": [
    "col_counts = df.apply(lambda x: x.count(), axis=0)\n",
    "keep_columns = col_counts[col_counts == col_counts.max()]\n",
    "dense = df.ix[:,keep_columns.index]"
   ]
  },
  {
   "cell_type": "code",
   "execution_count": 100,
   "metadata": {
    "collapsed": false
   },
   "outputs": [
    {
     "name": "stdout",
     "output_type": "stream",
     "text": [
      "<class 'pandas.core.frame.DataFrame'>\n",
      "Int64Index: 401125 entries, 0 to 401124\n",
      "Data columns (total 13 columns):\n",
      "SalesID               401125 non-null int64\n",
      "SalePrice             401125 non-null int64\n",
      "MachineID             401125 non-null int64\n",
      "ModelID               401125 non-null int64\n",
      "datasource            401125 non-null int64\n",
      "YearMade              401125 non-null int64\n",
      "saledate              401125 non-null datetime64[ns]\n",
      "fiModelDesc           401125 non-null object\n",
      "fiBaseModel           401125 non-null object\n",
      "fiProductClassDesc    401125 non-null object\n",
      "state                 401125 non-null object\n",
      "ProductGroup          401125 non-null object\n",
      "ProductGroupDesc      401125 non-null object\n",
      "dtypes: datetime64[ns](1), int64(6), object(6)\n",
      "memory usage: 42.8+ MB\n"
     ]
    }
   ],
   "source": [
    "dense.info()"
   ]
  },
  {
   "cell_type": "markdown",
   "metadata": {},
   "source": [
    "First things first, let's convert the ID columns into strings, since they should not be treated as ints/floats."
   ]
  },
  {
   "cell_type": "code",
   "execution_count": 158,
   "metadata": {
    "collapsed": false
   },
   "outputs": [],
   "source": [
    "id_cols = ['SalesID', 'MachineID', 'ModelID']\n",
    "dense[id_cols] = dense[id_cols].astype('str', inplace=True)"
   ]
  },
  {
   "cell_type": "code",
   "execution_count": 159,
   "metadata": {
    "collapsed": false
   },
   "outputs": [
    {
     "data": {
      "text/html": [
       "<div>\n",
       "<table border=\"1\" class=\"dataframe\">\n",
       "  <thead>\n",
       "    <tr style=\"text-align: right;\">\n",
       "      <th></th>\n",
       "      <th>SalePrice</th>\n",
       "      <th>datasource</th>\n",
       "      <th>YearMade</th>\n",
       "    </tr>\n",
       "  </thead>\n",
       "  <tbody>\n",
       "    <tr>\n",
       "      <th>count</th>\n",
       "      <td>401125.000000</td>\n",
       "      <td>401125.000000</td>\n",
       "      <td>401125.000000</td>\n",
       "    </tr>\n",
       "    <tr>\n",
       "      <th>mean</th>\n",
       "      <td>31099.712848</td>\n",
       "      <td>134.665810</td>\n",
       "      <td>1899.156901</td>\n",
       "    </tr>\n",
       "    <tr>\n",
       "      <th>std</th>\n",
       "      <td>23036.898502</td>\n",
       "      <td>8.962237</td>\n",
       "      <td>291.797469</td>\n",
       "    </tr>\n",
       "    <tr>\n",
       "      <th>min</th>\n",
       "      <td>4750.000000</td>\n",
       "      <td>121.000000</td>\n",
       "      <td>1000.000000</td>\n",
       "    </tr>\n",
       "    <tr>\n",
       "      <th>25%</th>\n",
       "      <td>14500.000000</td>\n",
       "      <td>132.000000</td>\n",
       "      <td>1985.000000</td>\n",
       "    </tr>\n",
       "    <tr>\n",
       "      <th>50%</th>\n",
       "      <td>24000.000000</td>\n",
       "      <td>132.000000</td>\n",
       "      <td>1995.000000</td>\n",
       "    </tr>\n",
       "    <tr>\n",
       "      <th>75%</th>\n",
       "      <td>40000.000000</td>\n",
       "      <td>136.000000</td>\n",
       "      <td>2000.000000</td>\n",
       "    </tr>\n",
       "    <tr>\n",
       "      <th>max</th>\n",
       "      <td>142000.000000</td>\n",
       "      <td>172.000000</td>\n",
       "      <td>2013.000000</td>\n",
       "    </tr>\n",
       "  </tbody>\n",
       "</table>\n",
       "</div>"
      ],
      "text/plain": [
       "           SalePrice     datasource       YearMade\n",
       "count  401125.000000  401125.000000  401125.000000\n",
       "mean    31099.712848     134.665810    1899.156901\n",
       "std     23036.898502       8.962237     291.797469\n",
       "min      4750.000000     121.000000    1000.000000\n",
       "25%     14500.000000     132.000000    1985.000000\n",
       "50%     24000.000000     132.000000    1995.000000\n",
       "75%     40000.000000     136.000000    2000.000000\n",
       "max    142000.000000     172.000000    2013.000000"
      ]
     },
     "execution_count": 159,
     "metadata": {},
     "output_type": "execute_result"
    }
   ],
   "source": [
    "dense.describe()"
   ]
  },
  {
   "cell_type": "markdown",
   "metadata": {},
   "source": [
    "### YearSold"
   ]
  },
  {
   "cell_type": "markdown",
   "metadata": {},
   "source": [
    "Looking at the statistics summary table above, it looks like the minimum YearMade is 1000. This is clearly an erroneous value so let's take a look at what we should do with them."
   ]
  },
  {
   "cell_type": "code",
   "execution_count": 128,
   "metadata": {
    "collapsed": false,
    "scrolled": false
   },
   "outputs": [
    {
     "data": {
      "text/plain": [
       "1000    38185\n",
       "1998    21221\n",
       "2005    20587\n",
       "2004    20020\n",
       "1997    18905\n",
       "1999    18767\n",
       "2000    16742\n",
       "1996    16691\n",
       "1995    15528\n",
       "1994    14199\n",
       "Name: YearMade, dtype: int64"
      ]
     },
     "execution_count": 128,
     "metadata": {},
     "output_type": "execute_result"
    }
   ],
   "source": [
    "dense['YearMade'].value_counts()[:10]"
   ]
  },
  {
   "cell_type": "markdown",
   "metadata": {},
   "source": [
    "There are 38,185 entries with YearMade=1000. That's about 10% of our data, so we shouldn't just drop it. An initial hypothesis could be that these are typos for '2000'. Let's check."
   ]
  },
  {
   "cell_type": "code",
   "execution_count": 133,
   "metadata": {
    "collapsed": false
   },
   "outputs": [
    {
     "data": {
      "text/plain": [
       "<matplotlib.axes._subplots.AxesSubplot at 0x1466bbfd0>"
      ]
     },
     "execution_count": 133,
     "metadata": {},
     "output_type": "execute_result"
    },
    {
     "data": {
      "image/png": "[encoded data removed]",
      "text/plain": [
       "<matplotlib.figure.Figure at 0x11ccfd150>"
      ]
     },
     "metadata": {},
     "output_type": "display_data"
    }
   ],
   "source": [
    "dense[dense['YearMade']==1000]['saledate'].hist()"
   ]
  },
  {
   "cell_type": "markdown",
   "metadata": {},
   "source": [
    "A sizeable chunk of these were sold before the year 2000, negates our hypothesis. Let's replace these values with some central tendency metric."
   ]
  },
  {
   "cell_type": "code",
   "execution_count": 151,
   "metadata": {
    "collapsed": false
   },
   "outputs": [
    {
     "name": "stdout",
     "output_type": "stream",
     "text": [
      "Mean: 1993.75740343\n",
      "Median: 1996.0\n",
      "Mode: 1998\n"
     ]
    }
   ],
   "source": [
    "print 'Mean:', dense[dense['YearMade']>1000]['YearMade'].mean()\n",
    "print 'Median:', dense[dense['YearMade']>1000]['YearMade'].median()\n",
    "print 'Mode:', dense[dense['YearMade']>1000]['YearMade'].mode()[0]"
   ]
  },
  {
   "cell_type": "markdown",
   "metadata": {},
   "source": [
    "Since the range for saledate is 1989-2013, let's use the mode. (This is a relatively arbitrary decision- it could have been any.)"
   ]
  },
  {
   "cell_type": "code",
   "execution_count": 161,
   "metadata": {
    "collapsed": false
   },
   "outputs": [],
   "source": [
    "dense['YearMade'] = dense['YearMade'].apply(lambda x: 1998 if x==1000 else x)"
   ]
  },
  {
   "cell_type": "markdown",
   "metadata": {},
   "source": [
    "Note that some will still have a 'negative age', since a handful of these have yearsold < 1998. In fact, the age of a machine is probably quite important to its selling price! One would think that an older machine would sell for less than a newer machine. Let's feature-engineer a new column for that."
   ]
  },
  {
   "cell_type": "markdown",
   "metadata": {},
   "source": [
    "### Age of Machine"
   ]
  },
  {
   "cell_type": "code",
   "execution_count": 167,
   "metadata": {
    "collapsed": false
   },
   "outputs": [],
   "source": [
    "dense['Age'] = dense['saledate'].dt.year - dense['YearMade']"
   ]
  },
  {
   "cell_type": "code",
   "execution_count": 169,
   "metadata": {
    "collapsed": false
   },
   "outputs": [
    {
     "data": {
      "text/plain": [
       "count    401125.000000\n",
       "mean          9.934452\n",
       "std           7.397564\n",
       "min         -12.000000\n",
       "25%           5.000000\n",
       "50%           8.000000\n",
       "75%          13.000000\n",
       "max          92.000000\n",
       "Name: Age, dtype: float64"
      ]
     },
     "execution_count": 169,
     "metadata": {},
     "output_type": "execute_result"
    }
   ],
   "source": [
    "dense['Age'].describe()"
   ]
  },
  {
   "cell_type": "markdown",
   "metadata": {},
   "source": [
    "Let's fix the negative age problem by setting them to the average age (of all positives)."
   ]
  },
  {
   "cell_type": "code",
   "execution_count": 172,
   "metadata": {
    "collapsed": false
   },
   "outputs": [
    {
     "data": {
      "text/plain": [
       "10.024990017554037"
      ]
     },
     "execution_count": 172,
     "metadata": {},
     "output_type": "execute_result"
    }
   ],
   "source": [
    "dense[dense['Age']>=0]['Age'].mean()"
   ]
  },
  {
   "cell_type": "code",
   "execution_count": 173,
   "metadata": {
    "collapsed": true
   },
   "outputs": [],
   "source": [
    "dense['Age'] = dense['Age'].apply(lambda x: 10 if x<0 else x)"
   ]
  },
  {
   "cell_type": "markdown",
   "metadata": {},
   "source": [
    "### Dealing with the ID columns"
   ]
  },
  {
   "cell_type": "markdown",
   "metadata": {},
   "source": [
    "Some thoughts about the ID columns:\n",
    "- SalesID is unlikely to provide us much insight, since it is the unique identifier to each sale.\n",
    "- MachineID may be useful - a machine that's been sold 10+ times will probably have a lower price than something similar that's been resold only once.\n",
    "- ModelID could also be useful - it probably groups machines by model, so we might be able to find price similarities for machines of the same model.\n",
    "\n",
    "Let's do quick check."
   ]
  },
  {
   "cell_type": "code",
   "execution_count": 176,
   "metadata": {
    "collapsed": false,
    "scrolled": false
   },
   "outputs": [
    {
     "name": "stdout",
     "output_type": "stream",
     "text": [
      "1821187    1\n",
      "2241093    1\n",
      "1526110    1\n",
      "1582977    1\n",
      "1582976    1\n",
      "Name: SalesID, dtype: int64\n",
      "Unique items:  401125\n",
      "\n",
      "\n",
      "2283592    26\n",
      "2285830    25\n",
      "1942724    23\n",
      "1896854    22\n",
      "2296335    20\n",
      "Name: MachineID, dtype: int64\n",
      "Unique items:  341027\n",
      "\n",
      "\n",
      "4605    5039\n",
      "3538    4869\n",
      "3170    4315\n",
      "4604    4233\n",
      "3362    4083\n",
      "Name: ModelID, dtype: int64\n",
      "Unique items:  5218\n",
      "\n",
      "\n"
     ]
    }
   ],
   "source": [
    "for col in ['SalesID', 'MachineID', 'ModelID']:\n",
    "    print dense[col].value_counts()[:5]\n",
    "    print 'Unique items: ', len(dense[col].unique())\n",
    "    print '\\n'"
   ]
  },
  {
   "cell_type": "markdown",
   "metadata": {},
   "source": [
    "We were correct about SalesID- let's drop it now."
   ]
  },
  {
   "cell_type": "code",
   "execution_count": 256,
   "metadata": {
    "collapsed": true
   },
   "outputs": [],
   "source": [
    "dense.drop('SalesID', axis=1, inplace=True)"
   ]
  },
  {
   "cell_type": "markdown",
   "metadata": {},
   "source": [
    "Let's now look at MachineID's distribution to see if it's worth further investigation."
   ]
  },
  {
   "cell_type": "code",
   "execution_count": 178,
   "metadata": {
    "collapsed": false
   },
   "outputs": [
    {
     "data": {
      "text/plain": [
       "<matplotlib.text.Text at 0x138c408d0>"
      ]
     },
     "execution_count": 178,
     "metadata": {},
     "output_type": "execute_result"
    },
    {
     "data": {
      "image/png": "[encoded data removed]",
      "text/plain": [
       "<matplotlib.figure.Figure at 0x138a40710>"
      ]
     },
     "metadata": {},
     "output_type": "display_data"
    }
   ],
   "source": [
    "dense['MachineID'].value_counts().hist()\n",
    "plt.title('Histogram of # of Sales for the Same Machine')\n",
    "plt.xlabel('# of Sales for the Same Machine')\n",
    "plt.ylabel('Frequency (counts)')"
   ]
  },
  {
   "cell_type": "code",
   "execution_count": 182,
   "metadata": {
    "collapsed": false
   },
   "outputs": [
    {
     "data": {
      "text/plain": [
       "count    341027.000000\n",
       "mean          1.176227\n",
       "std           0.554880\n",
       "min           1.000000\n",
       "25%           1.000000\n",
       "50%           1.000000\n",
       "75%           1.000000\n",
       "max          26.000000\n",
       "Name: MachineID, dtype: float64"
      ]
     },
     "execution_count": 182,
     "metadata": {},
     "output_type": "execute_result"
    }
   ],
   "source": [
    "dense['MachineID'].value_counts().describe()"
   ]
  },
  {
   "cell_type": "markdown",
   "metadata": {},
   "source": [
    "The vast majority of the sales are for machines sold for their first time, so we are unlikely to get much insight from this. We can safely drop all three ID columns."
   ]
  },
  {
   "cell_type": "code",
   "execution_count": 255,
   "metadata": {
    "collapsed": true
   },
   "outputs": [],
   "source": [
    "dense.drop('MachineID', axis=1, inplace=True)"
   ]
  },
  {
   "cell_type": "markdown",
   "metadata": {},
   "source": [
    "Let's now take a look at ModelID."
   ]
  },
  {
   "cell_type": "code",
   "execution_count": 180,
   "metadata": {
    "collapsed": false
   },
   "outputs": [
    {
     "data": {
      "text/plain": [
       "count    5218.000000\n",
       "mean       76.873323\n",
       "std       264.912971\n",
       "min         1.000000\n",
       "25%         2.000000\n",
       "50%         9.000000\n",
       "75%        40.000000\n",
       "max      5039.000000\n",
       "Name: ModelID, dtype: float64"
      ]
     },
     "execution_count": 180,
     "metadata": {},
     "output_type": "execute_result"
    }
   ],
   "source": [
    "dense['ModelID'].value_counts().describe()"
   ]
  },
  {
   "cell_type": "markdown",
   "metadata": {},
   "source": [
    "At least 75% of our data belongs to a ModelID that has been sold at least twice, so we might be able to use the mean of recent sales (for a given modelID) to predict future sales of that model. For the remaining < 25% of the data that we do not have similar historical sales data, we would have to ignore this aspect and use a simpler model. Let's pop this column out and see if we can revisit it later."
   ]
  },
  {
   "cell_type": "code",
   "execution_count": 258,
   "metadata": {
    "collapsed": true
   },
   "outputs": [],
   "source": [
    "modelID = dense.pop('ModelID')"
   ]
  },
  {
   "cell_type": "markdown",
   "metadata": {},
   "source": [
    "### Investigating Categorical Variables"
   ]
  },
  {
   "cell_type": "code",
   "execution_count": 196,
   "metadata": {
    "collapsed": false
   },
   "outputs": [
    {
     "name": "stdout",
     "output_type": "stream",
     "text": [
      "SalesID 401125\n",
      "SalePrice 899\n",
      "MachineID 341027\n",
      "ModelID 5218\n",
      "datasource 5\n",
      "YearMade 71\n",
      "saledate 3919\n",
      "fiModelDesc 4999\n",
      "fiBaseModel 1950\n",
      "fiProductClassDesc 74\n",
      "state 53\n",
      "ProductGroup 6\n",
      "ProductGroupDesc 6\n",
      "Age 80\n"
     ]
    }
   ],
   "source": [
    "# Printing all potential categorical variables\n",
    "for col in dense.columns:\n",
    "    print '{}: {} unique values'.format(col, len(dense[col].unique()))"
   ]
  },
  {
   "cell_type": "markdown",
   "metadata": {},
   "source": [
    "fiModelDesc, fiBaseModel, and fiProductClassDesc are not numerical and have too many unique values to be coherent categorical variables. We could perform clustering, PCA, or use other matrix factorization techniques to find similarities within them but let's drop them for this model."
   ]
  },
  {
   "cell_type": "code",
   "execution_count": 252,
   "metadata": {
    "collapsed": true
   },
   "outputs": [],
   "source": [
    "for x in ['fiModelDesc', 'fiBaseModel', 'fiProductClassDesc']:\n",
    "    dense.drop(x, axis=1, inplace=True)"
   ]
  },
  {
   "cell_type": "markdown",
   "metadata": {},
   "source": [
    "datasource, ProductGroup, and ProductGroupDesc look like potential candidates for being categorical variables in our model. Let's look at each of them."
   ]
  },
  {
   "cell_type": "code",
   "execution_count": 216,
   "metadata": {
    "collapsed": false
   },
   "outputs": [
    {
     "data": {
      "image/png": "[encoded data removed]",
      "text/plain": [
       "<matplotlib.figure.Figure at 0x1237aa090>"
      ]
     },
     "metadata": {},
     "output_type": "display_data"
    }
   ],
   "source": [
    "fig = plt.figure(figsize=(12,8))\n",
    "for i,x in enumerate(['datasource', 'ProductGroup', 'ProductGroupDesc']):\n",
    "    fig.add_subplot(2,2,i+1)\n",
    "    plt.title(x)\n",
    "    plt.barh(xrange(len(dense[x].value_counts())), dense[x].value_counts().values,\n",
    "            tick_label = dense[x].value_counts().index, align='center')"
   ]
  },
  {
   "cell_type": "markdown",
   "metadata": {},
   "source": [
    "Two quick observations here:\n",
    "- ProductGroup and ProductGroupDesc are giving us the exact same information here. To avoid multi-collinearity, we should drop one of them. Let's keep ProductGroup since the labels are shorter/cleaner.\n",
    "- Based on intuition, we hypothesize that datasource is unlikely to give us valuable info. The only reason it might is if the datasources are biased to begin with, e.g. if one datasource is just for luxury machines. Let's do a quick ttest to check if the prices in datasource=132 vary much from the rest."
   ]
  },
  {
   "cell_type": "code",
   "execution_count": 245,
   "metadata": {
    "collapsed": false
   },
   "outputs": [
    {
     "data": {
      "text/plain": [
       "Ttest_indResult(statistic=41.402631271298894, pvalue=0.0)"
      ]
     },
     "execution_count": 245,
     "metadata": {},
     "output_type": "execute_result"
    }
   ],
   "source": [
    "prices_132 = dense[dense['datasource']==132]['SalePrice'].values\n",
    "prices_not_132 = dense[dense['datasource']!=132]['SalePrice'].values\n",
    "ttest_ind(prices_not_132, np.random.choice(prices_132, size=len(prices_not_132)))"
   ]
  },
  {
   "cell_type": "markdown",
   "metadata": {},
   "source": [
    "Since we're getting pretty significant results, let's use datasource but engineer a binary column out of it."
   ]
  },
  {
   "cell_type": "code",
   "execution_count": 247,
   "metadata": {
    "collapsed": true
   },
   "outputs": [],
   "source": [
    "dense['datasource_132'] = dense['datasource'].apply(lambda x: True if x==132 else False)"
   ]
  },
  {
   "cell_type": "markdown",
   "metadata": {},
   "source": [
    "Let's now create dummy columns for ProductGroup (but first drop ProductGroupDesc)."
   ]
  },
  {
   "cell_type": "code",
   "execution_count": 248,
   "metadata": {
    "collapsed": true
   },
   "outputs": [],
   "source": [
    "dense.drop('ProductGroupDesc', axis=1, inplace=True)"
   ]
  },
  {
   "cell_type": "code",
   "execution_count": 260,
   "metadata": {
    "collapsed": false
   },
   "outputs": [],
   "source": [
    "dense = pd.get_dummies(dense, columns=['ProductGroup'])"
   ]
  },
  {
   "cell_type": "markdown",
   "metadata": {},
   "source": [
    "### Temporal Feature Engineering"
   ]
  },
  {
   "cell_type": "markdown",
   "metadata": {},
   "source": [
    "One might hypothesize that there are seasonal factors (month of year) in the selling price of a machine. Others might even posit that there are patterns in the time of month, or the day of week. Let's create columns for these 3 temporal features. Obviously not all three will be important (maybe none of them!) - we can remove these later on in the modeling phase if that is what we discover."
   ]
  },
  {
   "cell_type": "code",
   "execution_count": 351,
   "metadata": {
    "collapsed": false
   },
   "outputs": [],
   "source": [
    "dense['sale_month'] = dense['saledate'].dt.month\n",
    "dense['sale_dayofmonth'] = dense['saledate'].dt.day\n",
    "dense['sale_dayofweek'] = dense['saledate'].dt.dayofweek"
   ]
  },
  {
   "cell_type": "markdown",
   "metadata": {},
   "source": [
    "### Geographical Feature Engineering"
   ]
  },
  {
   "cell_type": "markdown",
   "metadata": {},
   "source": [
    "Another factor that might influence price is where it is sold. Converting all 52 (data says 53- we'll clean it up later) states into dummy variables add a lot of unnecessary dimensionality to our data. Let's bin them into the following regions grabbed from Google."
   ]
  },
  {
   "cell_type": "code",
   "execution_count": 324,
   "metadata": {
    "collapsed": false
   },
   "outputs": [],
   "source": [
    "newengland = 'Connecticut, Maine, Massachusetts, New Hampshire, Rhode Island, Vermont'\n",
    "midatlantic = 'Delaware, Maryland, New Jersey, New York, Pennsylvania, Washington DC'\n",
    "south = 'Alabama, Arkansas, Florida, Georgia, Kentucky, Louisiana, Mississippi, Missouri, North Carolina, South Carolina, Tennessee, Virginia, West Virginia'\n",
    "midwest = 'Illinois, Indiana, Iowa, Kansas, Michigan, Minnesota, Nebraska, North Dakota, Ohio, South Dakota, Wisconsin'\n",
    "southwest = 'Arizona, New Mexico, Oklahoma, Texas'\n",
    "west = 'Alaska, California, Colorado, Hawaii, Idaho, Montana, Nevada, Oregon, Utah, Washington, Wyoming'"
   ]
  },
  {
   "cell_type": "code",
   "execution_count": 325,
   "metadata": {
    "collapsed": false
   },
   "outputs": [],
   "source": [
    "region_names = ['newengland','midatlantic','south','midwest','southwest','west']\n",
    "regions = [newengland, midatlantic, south, midwest, southwest, west]\n",
    "regions_dict = {k: None for k in region_names}\n",
    "for region,lst in zip(region_names, regions):\n",
    "    regions_dict[region] = lst.split(', ')"
   ]
  },
  {
   "cell_type": "code",
   "execution_count": 326,
   "metadata": {
    "collapsed": true
   },
   "outputs": [],
   "source": [
    "def binStates(state):\n",
    "    for name,lst in regions_dict.iteritems():\n",
    "        if state in lst:\n",
    "            return name\n",
    "    return state"
   ]
  },
  {
   "cell_type": "code",
   "execution_count": 332,
   "metadata": {
    "collapsed": false
   },
   "outputs": [
    {
     "data": {
      "text/plain": [
       "south          157028\n",
       "west            73146\n",
       "southwest       65695\n",
       "midatlantic     42903\n",
       "midwest         42859\n",
       "newengland      16657\n",
       "Unspecified      2801\n",
       "Puerto Rico        36\n",
       "Name: region, dtype: int64"
      ]
     },
     "execution_count": 332,
     "metadata": {},
     "output_type": "execute_result"
    }
   ],
   "source": [
    "dense['region'] = dense['state'].apply(binStates)\n",
    "dense['region'].value_counts()"
   ]
  },
  {
   "cell_type": "markdown",
   "metadata": {},
   "source": [
    "After binning them, we see that 'Unspecified' and 'Puerto Rico' have not been properly binned. Let's assign them to either the mode (South) or their most similar price groups."
   ]
  },
  {
   "cell_type": "code",
   "execution_count": 337,
   "metadata": {
    "collapsed": false
   },
   "outputs": [
    {
     "data": {
      "text/plain": [
       "region\n",
       "Puerto Rico    25847.222222\n",
       "Unspecified    34857.711532\n",
       "midatlantic    27892.110552\n",
       "midwest        28184.574092\n",
       "newengland     28042.024374\n",
       "south          32622.377633\n",
       "southwest      32764.612665\n",
       "west           30480.047330\n",
       "Name: SalePrice, dtype: float64"
      ]
     },
     "execution_count": 337,
     "metadata": {},
     "output_type": "execute_result"
    }
   ],
   "source": [
    "dense.pivot_table('SalePrice', 'region')"
   ]
  },
  {
   "cell_type": "code",
   "execution_count": 338,
   "metadata": {
    "collapsed": true
   },
   "outputs": [],
   "source": [
    "dense['region'] = dense['region'].apply(lambda x: 'south' if x=='Unspecified' else x)\n",
    "dense['region'] = dense['region'].apply(lambda x: 'midatlantic' if x=='Puerto Rico' else x)"
   ]
  },
  {
   "cell_type": "markdown",
   "metadata": {},
   "source": [
    "Now we're ready to create dummy variables."
   ]
  },
  {
   "cell_type": "code",
   "execution_count": 340,
   "metadata": {
    "collapsed": true
   },
   "outputs": [],
   "source": [
    "dense = pd.get_dummies(dense, columns=['region'])"
   ]
  },
  {
   "cell_type": "markdown",
   "metadata": {},
   "source": [
    "### Final Data Inspection"
   ]
  },
  {
   "cell_type": "code",
   "execution_count": 353,
   "metadata": {
    "collapsed": false
   },
   "outputs": [
    {
     "name": "stdout",
     "output_type": "stream",
     "text": [
      "<class 'pandas.core.frame.DataFrame'>\n",
      "Int64Index: 401125 entries, 0 to 401124\n",
      "Data columns (total 22 columns):\n",
      "SalePrice             401125 non-null int64\n",
      "datasource            401125 non-null int64\n",
      "YearMade              401125 non-null int64\n",
      "saledate              401125 non-null datetime64[ns]\n",
      "state                 401125 non-null object\n",
      "Age                   401125 non-null int64\n",
      "datasource_132        401125 non-null bool\n",
      "ProductGroup_BL       401125 non-null float64\n",
      "ProductGroup_MG       401125 non-null float64\n",
      "ProductGroup_SSL      401125 non-null float64\n",
      "ProductGroup_TEX      401125 non-null float64\n",
      "ProductGroup_TTT      401125 non-null float64\n",
      "ProductGroup_WL       401125 non-null float64\n",
      "region_midatlantic    401125 non-null float64\n",
      "region_midwest        401125 non-null float64\n",
      "region_newengland     401125 non-null float64\n",
      "region_south          401125 non-null float64\n",
      "region_southwest      401125 non-null float64\n",
      "region_west           401125 non-null float64\n",
      "sale_month            401125 non-null int64\n",
      "sale_dayofmonth       401125 non-null int64\n",
      "sale_dayofweek        401125 non-null int64\n",
      "dtypes: bool(1), datetime64[ns](1), float64(12), int64(7), object(1)\n",
      "memory usage: 67.7+ MB\n"
     ]
    }
   ],
   "source": [
    "dense.info()"
   ]
  },
  {
   "cell_type": "markdown",
   "metadata": {},
   "source": [
    "We can drop the following columns:\n",
    "- datasource (we created a new binary column datasource_132)\n",
    "- saledate (we feature-engineered several columns out of that)\n",
    "- state (we feature-engineered 'region' out of that)\n",
    "- YearMade (we used that and saledate to create 'Age')"
   ]
  },
  {
   "cell_type": "code",
   "execution_count": 354,
   "metadata": {
    "collapsed": true
   },
   "outputs": [],
   "source": [
    "dense.drop(['datasource', 'saledate', 'state', 'YearMade'], axis=1, inplace=True)"
   ]
  },
  {
   "cell_type": "markdown",
   "metadata": {},
   "source": [
    "### Visualizing Feature Relationships / Multi-Collinearity"
   ]
  },
  {
   "cell_type": "code",
   "execution_count": 358,
   "metadata": {
    "collapsed": false
   },
   "outputs": [
    {
     "data": {
      "text/plain": [
       "<matplotlib.axes._subplots.AxesSubplot at 0x123588ed0>"
      ]
     },
     "execution_count": 358,
     "metadata": {},
     "output_type": "execute_result"
    },
    {
     "data": {
      "image/png": "[encoded data removed]",
      "text/plain": [
       "<matplotlib.figure.Figure at 0x13c9d5b90>"
      ]
     },
     "metadata": {},
     "output_type": "display_data"
    }
   ],
   "source": [
    "correlations = dense.corr()\n",
    "plt.figure(figsize=(10,7))\n",
    "sns.heatmap(correlations)"
   ]
  },
  {
   "cell_type": "code",
   "execution_count": 359,
   "metadata": {
    "collapsed": false
   },
   "outputs": [
    {
     "data": {
      "text/html": [
       "<div>\n",
       "<table border=\"1\" class=\"dataframe\">\n",
       "  <thead>\n",
       "    <tr style=\"text-align: right;\">\n",
       "      <th></th>\n",
       "      <th>SalePrice</th>\n",
       "      <th>Age</th>\n",
       "      <th>datasource_132</th>\n",
       "      <th>ProductGroup_BL</th>\n",
       "      <th>ProductGroup_MG</th>\n",
       "      <th>ProductGroup_SSL</th>\n",
       "      <th>ProductGroup_TEX</th>\n",
       "      <th>ProductGroup_TTT</th>\n",
       "      <th>ProductGroup_WL</th>\n",
       "      <th>region_midatlantic</th>\n",
       "      <th>region_midwest</th>\n",
       "      <th>region_newengland</th>\n",
       "      <th>region_south</th>\n",
       "      <th>region_southwest</th>\n",
       "      <th>region_west</th>\n",
       "      <th>sale_month</th>\n",
       "      <th>sale_dayofmonth</th>\n",
       "      <th>sale_dayofweek</th>\n",
       "    </tr>\n",
       "  </thead>\n",
       "  <tbody>\n",
       "    <tr>\n",
       "      <th>SalePrice</th>\n",
       "      <td>1.000000</td>\n",
       "      <td>-0.217569</td>\n",
       "      <td>-0.074181</td>\n",
       "      <td>-0.220037</td>\n",
       "      <td>0.182638</td>\n",
       "      <td>-0.311069</td>\n",
       "      <td>0.115117</td>\n",
       "      <td>0.110048</td>\n",
       "      <td>0.119882</td>\n",
       "      <td>-0.048235</td>\n",
       "      <td>-0.043768</td>\n",
       "      <td>-0.027627</td>\n",
       "      <td>0.055178</td>\n",
       "      <td>0.031984</td>\n",
       "      <td>-0.012703</td>\n",
       "      <td>-0.028498</td>\n",
       "      <td>0.000013</td>\n",
       "      <td>-0.056823</td>\n",
       "    </tr>\n",
       "    <tr>\n",
       "      <th>Age</th>\n",
       "      <td>-0.217569</td>\n",
       "      <td>1.000000</td>\n",
       "      <td>-0.026115</td>\n",
       "      <td>-0.108340</td>\n",
       "      <td>0.238560</td>\n",
       "      <td>-0.176400</td>\n",
       "      <td>-0.153358</td>\n",
       "      <td>0.128492</td>\n",
       "      <td>0.143945</td>\n",
       "      <td>-0.013623</td>\n",
       "      <td>0.057891</td>\n",
       "      <td>0.001152</td>\n",
       "      <td>-0.080403</td>\n",
       "      <td>-0.016598</td>\n",
       "      <td>0.081849</td>\n",
       "      <td>-0.023784</td>\n",
       "      <td>-0.005299</td>\n",
       "      <td>-0.037049</td>\n",
       "    </tr>\n",
       "    <tr>\n",
       "      <th>datasource_132</th>\n",
       "      <td>-0.074181</td>\n",
       "      <td>-0.026115</td>\n",
       "      <td>1.000000</td>\n",
       "      <td>0.027023</td>\n",
       "      <td>-0.006110</td>\n",
       "      <td>-0.023578</td>\n",
       "      <td>-0.000864</td>\n",
       "      <td>0.003312</td>\n",
       "      <td>-0.007593</td>\n",
       "      <td>0.054901</td>\n",
       "      <td>-0.014070</td>\n",
       "      <td>0.054655</td>\n",
       "      <td>0.024725</td>\n",
       "      <td>-0.044041</td>\n",
       "      <td>-0.050081</td>\n",
       "      <td>-0.064425</td>\n",
       "      <td>-0.029263</td>\n",
       "      <td>0.059798</td>\n",
       "    </tr>\n",
       "    <tr>\n",
       "      <th>ProductGroup_BL</th>\n",
       "      <td>-0.220037</td>\n",
       "      <td>-0.108340</td>\n",
       "      <td>0.027023</td>\n",
       "      <td>1.000000</td>\n",
       "      <td>-0.129423</td>\n",
       "      <td>-0.173254</td>\n",
       "      <td>-0.288541</td>\n",
       "      <td>-0.248992</td>\n",
       "      <td>-0.230505</td>\n",
       "      <td>0.010258</td>\n",
       "      <td>-0.028844</td>\n",
       "      <td>-0.018714</td>\n",
       "      <td>-0.047014</td>\n",
       "      <td>0.066704</td>\n",
       "      <td>0.020213</td>\n",
       "      <td>0.019462</td>\n",
       "      <td>0.000522</td>\n",
       "      <td>0.020310</td>\n",
       "    </tr>\n",
       "    <tr>\n",
       "      <th>ProductGroup_MG</th>\n",
       "      <td>0.182638</td>\n",
       "      <td>0.238560</td>\n",
       "      <td>-0.006110</td>\n",
       "      <td>-0.129423</td>\n",
       "      <td>1.000000</td>\n",
       "      <td>-0.090836</td>\n",
       "      <td>-0.151280</td>\n",
       "      <td>-0.130545</td>\n",
       "      <td>-0.120852</td>\n",
       "      <td>-0.057996</td>\n",
       "      <td>-0.005506</td>\n",
       "      <td>-0.038852</td>\n",
       "      <td>0.011144</td>\n",
       "      <td>0.044309</td>\n",
       "      <td>0.014319</td>\n",
       "      <td>-0.012250</td>\n",
       "      <td>-0.005746</td>\n",
       "      <td>-0.041760</td>\n",
       "    </tr>\n",
       "    <tr>\n",
       "      <th>ProductGroup_SSL</th>\n",
       "      <td>-0.311069</td>\n",
       "      <td>-0.176400</td>\n",
       "      <td>-0.023578</td>\n",
       "      <td>-0.173254</td>\n",
       "      <td>-0.090836</td>\n",
       "      <td>1.000000</td>\n",
       "      <td>-0.202513</td>\n",
       "      <td>-0.174755</td>\n",
       "      <td>-0.161780</td>\n",
       "      <td>0.005337</td>\n",
       "      <td>0.049796</td>\n",
       "      <td>-0.010284</td>\n",
       "      <td>-0.025728</td>\n",
       "      <td>-0.017406</td>\n",
       "      <td>0.010505</td>\n",
       "      <td>0.014922</td>\n",
       "      <td>0.003925</td>\n",
       "      <td>0.022661</td>\n",
       "    </tr>\n",
       "    <tr>\n",
       "      <th>ProductGroup_TEX</th>\n",
       "      <td>0.115117</td>\n",
       "      <td>-0.153358</td>\n",
       "      <td>-0.000864</td>\n",
       "      <td>-0.288541</td>\n",
       "      <td>-0.151280</td>\n",
       "      <td>-0.202513</td>\n",
       "      <td>1.000000</td>\n",
       "      <td>-0.291042</td>\n",
       "      <td>-0.269433</td>\n",
       "      <td>0.045387</td>\n",
       "      <td>-0.009224</td>\n",
       "      <td>0.052023</td>\n",
       "      <td>0.023027</td>\n",
       "      <td>-0.066745</td>\n",
       "      <td>-0.021066</td>\n",
       "      <td>-0.004862</td>\n",
       "      <td>0.009778</td>\n",
       "      <td>0.045590</td>\n",
       "    </tr>\n",
       "    <tr>\n",
       "      <th>ProductGroup_TTT</th>\n",
       "      <td>0.110048</td>\n",
       "      <td>0.128492</td>\n",
       "      <td>0.003312</td>\n",
       "      <td>-0.248992</td>\n",
       "      <td>-0.130545</td>\n",
       "      <td>-0.174755</td>\n",
       "      <td>-0.291042</td>\n",
       "      <td>1.000000</td>\n",
       "      <td>-0.232502</td>\n",
       "      <td>-0.010294</td>\n",
       "      <td>0.011095</td>\n",
       "      <td>-0.015182</td>\n",
       "      <td>0.063839</td>\n",
       "      <td>-0.007573</td>\n",
       "      <td>-0.066473</td>\n",
       "      <td>-0.001193</td>\n",
       "      <td>-0.001318</td>\n",
       "      <td>-0.030255</td>\n",
       "    </tr>\n",
       "    <tr>\n",
       "      <th>ProductGroup_WL</th>\n",
       "      <td>0.119882</td>\n",
       "      <td>0.143945</td>\n",
       "      <td>-0.007593</td>\n",
       "      <td>-0.230505</td>\n",
       "      <td>-0.120852</td>\n",
       "      <td>-0.161780</td>\n",
       "      <td>-0.269433</td>\n",
       "      <td>-0.232502</td>\n",
       "      <td>1.000000</td>\n",
       "      <td>-0.018824</td>\n",
       "      <td>-0.008076</td>\n",
       "      <td>0.009485</td>\n",
       "      <td>-0.030270</td>\n",
       "      <td>0.000111</td>\n",
       "      <td>0.054905</td>\n",
       "      <td>-0.017856</td>\n",
       "      <td>-0.009810</td>\n",
       "      <td>-0.033087</td>\n",
       "    </tr>\n",
       "    <tr>\n",
       "      <th>region_midatlantic</th>\n",
       "      <td>-0.048235</td>\n",
       "      <td>-0.013623</td>\n",
       "      <td>0.054901</td>\n",
       "      <td>0.010258</td>\n",
       "      <td>-0.057996</td>\n",
       "      <td>0.005337</td>\n",
       "      <td>0.045387</td>\n",
       "      <td>-0.010294</td>\n",
       "      <td>-0.018824</td>\n",
       "      <td>1.000000</td>\n",
       "      <td>-0.119754</td>\n",
       "      <td>-0.072068</td>\n",
       "      <td>-0.281789</td>\n",
       "      <td>-0.153228</td>\n",
       "      <td>-0.163510</td>\n",
       "      <td>0.063603</td>\n",
       "      <td>0.034223</td>\n",
       "      <td>0.191489</td>\n",
       "    </tr>\n",
       "    <tr>\n",
       "      <th>region_midwest</th>\n",
       "      <td>-0.043768</td>\n",
       "      <td>0.057891</td>\n",
       "      <td>-0.014070</td>\n",
       "      <td>-0.028844</td>\n",
       "      <td>-0.005506</td>\n",
       "      <td>0.049796</td>\n",
       "      <td>-0.009224</td>\n",
       "      <td>0.011095</td>\n",
       "      <td>-0.008076</td>\n",
       "      <td>-0.119754</td>\n",
       "      <td>1.000000</td>\n",
       "      <td>-0.071992</td>\n",
       "      <td>-0.281495</td>\n",
       "      <td>-0.153068</td>\n",
       "      <td>-0.163339</td>\n",
       "      <td>0.065867</td>\n",
       "      <td>0.024585</td>\n",
       "      <td>0.073233</td>\n",
       "    </tr>\n",
       "    <tr>\n",
       "      <th>region_newengland</th>\n",
       "      <td>-0.027627</td>\n",
       "      <td>0.001152</td>\n",
       "      <td>0.054655</td>\n",
       "      <td>-0.018714</td>\n",
       "      <td>-0.038852</td>\n",
       "      <td>-0.010284</td>\n",
       "      <td>0.052023</td>\n",
       "      <td>-0.015182</td>\n",
       "      <td>0.009485</td>\n",
       "      <td>-0.072068</td>\n",
       "      <td>-0.071992</td>\n",
       "      <td>1.000000</td>\n",
       "      <td>-0.169403</td>\n",
       "      <td>-0.092116</td>\n",
       "      <td>-0.098297</td>\n",
       "      <td>0.032096</td>\n",
       "      <td>0.015552</td>\n",
       "      <td>0.161805</td>\n",
       "    </tr>\n",
       "    <tr>\n",
       "      <th>region_south</th>\n",
       "      <td>0.055178</td>\n",
       "      <td>-0.080403</td>\n",
       "      <td>0.024725</td>\n",
       "      <td>-0.047014</td>\n",
       "      <td>0.011144</td>\n",
       "      <td>-0.025728</td>\n",
       "      <td>0.023027</td>\n",
       "      <td>0.063839</td>\n",
       "      <td>-0.030270</td>\n",
       "      <td>-0.281789</td>\n",
       "      <td>-0.281495</td>\n",
       "      <td>-0.169403</td>\n",
       "      <td>1.000000</td>\n",
       "      <td>-0.360179</td>\n",
       "      <td>-0.384348</td>\n",
       "      <td>-0.197186</td>\n",
       "      <td>-0.056727</td>\n",
       "      <td>-0.082578</td>\n",
       "    </tr>\n",
       "    <tr>\n",
       "      <th>region_southwest</th>\n",
       "      <td>0.031984</td>\n",
       "      <td>-0.016598</td>\n",
       "      <td>-0.044041</td>\n",
       "      <td>0.066704</td>\n",
       "      <td>0.044309</td>\n",
       "      <td>-0.017406</td>\n",
       "      <td>-0.066745</td>\n",
       "      <td>-0.007573</td>\n",
       "      <td>0.000111</td>\n",
       "      <td>-0.153228</td>\n",
       "      <td>-0.153068</td>\n",
       "      <td>-0.092116</td>\n",
       "      <td>-0.360179</td>\n",
       "      <td>1.000000</td>\n",
       "      <td>-0.208996</td>\n",
       "      <td>0.057258</td>\n",
       "      <td>-0.015913</td>\n",
       "      <td>-0.119921</td>\n",
       "    </tr>\n",
       "    <tr>\n",
       "      <th>region_west</th>\n",
       "      <td>-0.012703</td>\n",
       "      <td>0.081849</td>\n",
       "      <td>-0.050081</td>\n",
       "      <td>0.020213</td>\n",
       "      <td>0.014319</td>\n",
       "      <td>0.010505</td>\n",
       "      <td>-0.021066</td>\n",
       "      <td>-0.066473</td>\n",
       "      <td>0.054905</td>\n",
       "      <td>-0.163510</td>\n",
       "      <td>-0.163339</td>\n",
       "      <td>-0.098297</td>\n",
       "      <td>-0.384348</td>\n",
       "      <td>-0.208996</td>\n",
       "      <td>1.000000</td>\n",
       "      <td>0.074932</td>\n",
       "      <td>0.032070</td>\n",
       "      <td>-0.075876</td>\n",
       "    </tr>\n",
       "    <tr>\n",
       "      <th>sale_month</th>\n",
       "      <td>-0.028498</td>\n",
       "      <td>-0.023784</td>\n",
       "      <td>-0.064425</td>\n",
       "      <td>0.019462</td>\n",
       "      <td>-0.012250</td>\n",
       "      <td>0.014922</td>\n",
       "      <td>-0.004862</td>\n",
       "      <td>-0.001193</td>\n",
       "      <td>-0.017856</td>\n",
       "      <td>0.063603</td>\n",
       "      <td>0.065867</td>\n",
       "      <td>0.032096</td>\n",
       "      <td>-0.197186</td>\n",
       "      <td>0.057258</td>\n",
       "      <td>0.074932</td>\n",
       "      <td>1.000000</td>\n",
       "      <td>-0.124482</td>\n",
       "      <td>0.036912</td>\n",
       "    </tr>\n",
       "    <tr>\n",
       "      <th>sale_dayofmonth</th>\n",
       "      <td>0.000013</td>\n",
       "      <td>-0.005299</td>\n",
       "      <td>-0.029263</td>\n",
       "      <td>0.000522</td>\n",
       "      <td>-0.005746</td>\n",
       "      <td>0.003925</td>\n",
       "      <td>0.009778</td>\n",
       "      <td>-0.001318</td>\n",
       "      <td>-0.009810</td>\n",
       "      <td>0.034223</td>\n",
       "      <td>0.024585</td>\n",
       "      <td>0.015552</td>\n",
       "      <td>-0.056727</td>\n",
       "      <td>-0.015913</td>\n",
       "      <td>0.032070</td>\n",
       "      <td>-0.124482</td>\n",
       "      <td>1.000000</td>\n",
       "      <td>0.010905</td>\n",
       "    </tr>\n",
       "    <tr>\n",
       "      <th>sale_dayofweek</th>\n",
       "      <td>-0.056823</td>\n",
       "      <td>-0.037049</td>\n",
       "      <td>0.059798</td>\n",
       "      <td>0.020310</td>\n",
       "      <td>-0.041760</td>\n",
       "      <td>0.022661</td>\n",
       "      <td>0.045590</td>\n",
       "      <td>-0.030255</td>\n",
       "      <td>-0.033087</td>\n",
       "      <td>0.191489</td>\n",
       "      <td>0.073233</td>\n",
       "      <td>0.161805</td>\n",
       "      <td>-0.082578</td>\n",
       "      <td>-0.119921</td>\n",
       "      <td>-0.075876</td>\n",
       "      <td>0.036912</td>\n",
       "      <td>0.010905</td>\n",
       "      <td>1.000000</td>\n",
       "    </tr>\n",
       "  </tbody>\n",
       "</table>\n",
       "</div>"
      ],
      "text/plain": [
       "                    SalePrice       Age  datasource_132  ProductGroup_BL  \\\n",
       "SalePrice            1.000000 -0.217569       -0.074181        -0.220037   \n",
       "Age                 -0.217569  1.000000       -0.026115        -0.108340   \n",
       "datasource_132      -0.074181 -0.026115        1.000000         0.027023   \n",
       "ProductGroup_BL     -0.220037 -0.108340        0.027023         1.000000   \n",
       "ProductGroup_MG      0.182638  0.238560       -0.006110        -0.129423   \n",
       "ProductGroup_SSL    -0.311069 -0.176400       -0.023578        -0.173254   \n",
       "ProductGroup_TEX     0.115117 -0.153358       -0.000864        -0.288541   \n",
       "ProductGroup_TTT     0.110048  0.128492        0.003312        -0.248992   \n",
       "ProductGroup_WL      0.119882  0.143945       -0.007593        -0.230505   \n",
       "region_midatlantic  -0.048235 -0.013623        0.054901         0.010258   \n",
       "region_midwest      -0.043768  0.057891       -0.014070        -0.028844   \n",
       "region_newengland   -0.027627  0.001152        0.054655        -0.018714   \n",
       "region_south         0.055178 -0.080403        0.024725        -0.047014   \n",
       "region_southwest     0.031984 -0.016598       -0.044041         0.066704   \n",
       "region_west         -0.012703  0.081849       -0.050081         0.020213   \n",
       "sale_month          -0.028498 -0.023784       -0.064425         0.019462   \n",
       "sale_dayofmonth      0.000013 -0.005299       -0.029263         0.000522   \n",
       "sale_dayofweek      -0.056823 -0.037049        0.059798         0.020310   \n",
       "\n",
       "                    ProductGroup_MG  ProductGroup_SSL  ProductGroup_TEX  \\\n",
       "SalePrice                  0.182638         -0.311069          0.115117   \n",
       "Age                        0.238560         -0.176400         -0.153358   \n",
       "datasource_132            -0.006110         -0.023578         -0.000864   \n",
       "ProductGroup_BL           -0.129423         -0.173254         -0.288541   \n",
       "ProductGroup_MG            1.000000         -0.090836         -0.151280   \n",
       "ProductGroup_SSL          -0.090836          1.000000         -0.202513   \n",
       "ProductGroup_TEX          -0.151280         -0.202513          1.000000   \n",
       "ProductGroup_TTT          -0.130545         -0.174755         -0.291042   \n",
       "ProductGroup_WL           -0.120852         -0.161780         -0.269433   \n",
       "region_midatlantic        -0.057996          0.005337          0.045387   \n",
       "region_midwest            -0.005506          0.049796         -0.009224   \n",
       "region_newengland         -0.038852         -0.010284          0.052023   \n",
       "region_south               0.011144         -0.025728          0.023027   \n",
       "region_southwest           0.044309         -0.017406         -0.066745   \n",
       "region_west                0.014319          0.010505         -0.021066   \n",
       "sale_month                -0.012250          0.014922         -0.004862   \n",
       "sale_dayofmonth           -0.005746          0.003925          0.009778   \n",
       "sale_dayofweek            -0.041760          0.022661          0.045590   \n",
       "\n",
       "                    ProductGroup_TTT  ProductGroup_WL  region_midatlantic  \\\n",
       "SalePrice                   0.110048         0.119882           -0.048235   \n",
       "Age                         0.128492         0.143945           -0.013623   \n",
       "datasource_132              0.003312        -0.007593            0.054901   \n",
       "ProductGroup_BL            -0.248992        -0.230505            0.010258   \n",
       "ProductGroup_MG            -0.130545        -0.120852           -0.057996   \n",
       "ProductGroup_SSL           -0.174755        -0.161780            0.005337   \n",
       "ProductGroup_TEX           -0.291042        -0.269433            0.045387   \n",
       "ProductGroup_TTT            1.000000        -0.232502           -0.010294   \n",
       "ProductGroup_WL            -0.232502         1.000000           -0.018824   \n",
       "region_midatlantic         -0.010294        -0.018824            1.000000   \n",
       "region_midwest              0.011095        -0.008076           -0.119754   \n",
       "region_newengland          -0.015182         0.009485           -0.072068   \n",
       "region_south                0.063839        -0.030270           -0.281789   \n",
       "region_southwest           -0.007573         0.000111           -0.153228   \n",
       "region_west                -0.066473         0.054905           -0.163510   \n",
       "sale_month                 -0.001193        -0.017856            0.063603   \n",
       "sale_dayofmonth            -0.001318        -0.009810            0.034223   \n",
       "sale_dayofweek             -0.030255        -0.033087            0.191489   \n",
       "\n",
       "                    region_midwest  region_newengland  region_south  \\\n",
       "SalePrice                -0.043768          -0.027627      0.055178   \n",
       "Age                       0.057891           0.001152     -0.080403   \n",
       "datasource_132           -0.014070           0.054655      0.024725   \n",
       "ProductGroup_BL          -0.028844          -0.018714     -0.047014   \n",
       "ProductGroup_MG          -0.005506          -0.038852      0.011144   \n",
       "ProductGroup_SSL          0.049796          -0.010284     -0.025728   \n",
       "ProductGroup_TEX         -0.009224           0.052023      0.023027   \n",
       "ProductGroup_TTT          0.011095          -0.015182      0.063839   \n",
       "ProductGroup_WL          -0.008076           0.009485     -0.030270   \n",
       "region_midatlantic       -0.119754          -0.072068     -0.281789   \n",
       "region_midwest            1.000000          -0.071992     -0.281495   \n",
       "region_newengland        -0.071992           1.000000     -0.169403   \n",
       "region_south             -0.281495          -0.169403      1.000000   \n",
       "region_southwest         -0.153068          -0.092116     -0.360179   \n",
       "region_west              -0.163339          -0.098297     -0.384348   \n",
       "sale_month                0.065867           0.032096     -0.197186   \n",
       "sale_dayofmonth           0.024585           0.015552     -0.056727   \n",
       "sale_dayofweek            0.073233           0.161805     -0.082578   \n",
       "\n",
       "                    region_southwest  region_west  sale_month  \\\n",
       "SalePrice                   0.031984    -0.012703   -0.028498   \n",
       "Age                        -0.016598     0.081849   -0.023784   \n",
       "datasource_132             -0.044041    -0.050081   -0.064425   \n",
       "ProductGroup_BL             0.066704     0.020213    0.019462   \n",
       "ProductGroup_MG             0.044309     0.014319   -0.012250   \n",
       "ProductGroup_SSL           -0.017406     0.010505    0.014922   \n",
       "ProductGroup_TEX           -0.066745    -0.021066   -0.004862   \n",
       "ProductGroup_TTT           -0.007573    -0.066473   -0.001193   \n",
       "ProductGroup_WL             0.000111     0.054905   -0.017856   \n",
       "region_midatlantic         -0.153228    -0.163510    0.063603   \n",
       "region_midwest             -0.153068    -0.163339    0.065867   \n",
       "region_newengland          -0.092116    -0.098297    0.032096   \n",
       "region_south               -0.360179    -0.384348   -0.197186   \n",
       "region_southwest            1.000000    -0.208996    0.057258   \n",
       "region_west                -0.208996     1.000000    0.074932   \n",
       "sale_month                  0.057258     0.074932    1.000000   \n",
       "sale_dayofmonth            -0.015913     0.032070   -0.124482   \n",
       "sale_dayofweek             -0.119921    -0.075876    0.036912   \n",
       "\n",
       "                    sale_dayofmonth  sale_dayofweek  \n",
       "SalePrice                  0.000013       -0.056823  \n",
       "Age                       -0.005299       -0.037049  \n",
       "datasource_132            -0.029263        0.059798  \n",
       "ProductGroup_BL            0.000522        0.020310  \n",
       "ProductGroup_MG           -0.005746       -0.041760  \n",
       "ProductGroup_SSL           0.003925        0.022661  \n",
       "ProductGroup_TEX           0.009778        0.045590  \n",
       "ProductGroup_TTT          -0.001318       -0.030255  \n",
       "ProductGroup_WL           -0.009810       -0.033087  \n",
       "region_midatlantic         0.034223        0.191489  \n",
       "region_midwest             0.024585        0.073233  \n",
       "region_newengland          0.015552        0.161805  \n",
       "region_south              -0.056727       -0.082578  \n",
       "region_southwest          -0.015913       -0.119921  \n",
       "region_west                0.032070       -0.075876  \n",
       "sale_month                -0.124482        0.036912  \n",
       "sale_dayofmonth            1.000000        0.010905  \n",
       "sale_dayofweek             0.010905        1.000000  "
      ]
     },
     "execution_count": 359,
     "metadata": {},
     "output_type": "execute_result"
    }
   ],
   "source": [
    "correlations"
   ]
  },
  {
   "cell_type": "markdown",
   "metadata": {},
   "source": [
    "### Columns with Missing/Null Values"
   ]
  },
  {
   "cell_type": "markdown",
   "metadata": {},
   "source": [
    "Before we pass our data in through a model, let's go back to our original dataframe (df), take a look at the columns with missing values and see if we can impute values for columns that are \"almost\" dense. We define this as having no more than 20% missing values (about 80,000 rows)."
   ]
  },
  {
   "cell_type": "code",
   "execution_count": 294,
   "metadata": {
    "collapsed": false,
    "scrolled": false
   },
   "outputs": [
    {
     "name": "stdout",
     "output_type": "stream",
     "text": [
      "auctioneerID: 20136 missing values\n",
      "Enclosure: 325 missing values\n"
     ]
    }
   ],
   "source": [
    "dfnulls = df.isnull()\n",
    "for col in dfnulls:\n",
    "    missing = sum(dfnulls[col])\n",
    "    if missing < 80000 and missing > 0:\n",
    "        print '{}: {} missing values'.format(col, missing)"
   ]
  },
  {
   "cell_type": "markdown",
   "metadata": {},
   "source": [
    "#### AuctioneerID"
   ]
  },
  {
   "cell_type": "code",
   "execution_count": 76,
   "metadata": {
    "collapsed": false
   },
   "outputs": [
    {
     "data": {
      "text/plain": [
       "<matplotlib.axes._subplots.AxesSubplot at 0x11be3fe50>"
      ]
     },
     "execution_count": 76,
     "metadata": {},
     "output_type": "execute_result"
    },
    {
     "data": {
      "image/png": "[encoded data removed]",
      "text/plain": [
       "<matplotlib.figure.Figure at 0x11c274a50>"
      ]
     },
     "metadata": {},
     "output_type": "display_data"
    }
   ],
   "source": [
    "df['auctioneerID'].hist(bins=len(df['auctioneerID'].unique()))"
   ]
  },
  {
   "cell_type": "markdown",
   "metadata": {},
   "source": [
    "The vast majority of sales are from auctioneerID = 1. Insight is unlikely to be derived from this variable."
   ]
  },
  {
   "cell_type": "markdown",
   "metadata": {},
   "source": [
    "#### Enclosure"
   ]
  },
  {
   "cell_type": "code",
   "execution_count": 382,
   "metadata": {
    "collapsed": false
   },
   "outputs": [
    {
     "data": {
      "text/plain": [
       "OROPS                  174257\n",
       "EROPS                  139026\n",
       "EROPS w AC              87820\n",
       "EROPS AC                   17\n",
       "NO ROPS                     3\n",
       "None or Unspecified         2\n",
       "Name: Enclosure, dtype: int64"
      ]
     },
     "execution_count": 382,
     "metadata": {},
     "output_type": "execute_result"
    }
   ],
   "source": [
    "df['Enclosure'].value_counts()"
   ]
  },
  {
   "cell_type": "markdown",
   "metadata": {},
   "source": [
    "Let's first combine 'EROPS w AC' with 'EROPS AC', then impute the missing 325 values, 'NO ROPS', and 'None or Unspecified' to be the mode ('OROPS').\n",
    "Finally, we'll dummify them and concatenate to our dense dataframe."
   ]
  },
  {
   "cell_type": "code",
   "execution_count": 377,
   "metadata": {
    "collapsed": false
   },
   "outputs": [],
   "source": [
    "df['Enclosure'].fillna(df['Enclosure'].mode()[0], inplace=True)"
   ]
  },
  {
   "cell_type": "code",
   "execution_count": 395,
   "metadata": {
    "collapsed": false
   },
   "outputs": [],
   "source": [
    "df['Enclosure'] = df['Enclosure'].apply(lambda x: 'EROPS w AC' if x=='EROPS AC' else x)\n",
    "df['Enclosure'] = df['Enclosure'].apply(lambda x: df['Enclosure'].mode()[0] if x=='NO ROPS' else x)\n",
    "df['Enclosure'] = df['Enclosure'].apply(lambda x: df['Enclosure'].mode()[0] if x=='None or Unspecified' else x)"
   ]
  },
  {
   "cell_type": "code",
   "execution_count": 396,
   "metadata": {
    "collapsed": false
   },
   "outputs": [
    {
     "data": {
      "text/plain": [
       "OROPS         174262\n",
       "EROPS         139026\n",
       "EROPS w AC     87837\n",
       "Name: Enclosure, dtype: int64"
      ]
     },
     "execution_count": 396,
     "metadata": {},
     "output_type": "execute_result"
    }
   ],
   "source": [
    "df['Enclosure'].value_counts()"
   ]
  },
  {
   "cell_type": "code",
   "execution_count": 399,
   "metadata": {
    "collapsed": false,
    "scrolled": false
   },
   "outputs": [],
   "source": [
    "dense = pd.concat((dense,pd.get_dummies(df['Enclosure'])), axis=1)"
   ]
  },
  {
   "cell_type": "markdown",
   "metadata": {},
   "source": [
    "## Exporting the Data"
   ]
  },
  {
   "cell_type": "markdown",
   "metadata": {},
   "source": [
    "Now we're ready to do the modeling - let's export it to another csv."
   ]
  },
  {
   "cell_type": "code",
   "execution_count": 402,
   "metadata": {
    "collapsed": false
   },
   "outputs": [],
   "source": [
    "dense.to_csv('/Users/MikeYung/Galvanize/regression-case-study/data/train_cleaned.csv')"
   ]
  }
 ],
 "metadata": {
  "kernelspec": {
   "display_name": "Python 2",
   "language": "python",
   "name": "python2"
  },
  "language_info": {
   "codemirror_mode": {
    "name": "ipython",
    "version": 2
   },
   "file_extension": ".py",
   "mimetype": "text/x-python",
   "name": "python",
   "nbconvert_exporter": "python",
   "pygments_lexer": "ipython2",
   "version": "2.7.12"
  }
 },
 "nbformat": 4,
 "nbformat_minor": 0
}
